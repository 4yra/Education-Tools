{
 "cells": [
  {
   "cell_type": "code",
   "execution_count": 9,
   "metadata": {},
   "outputs": [],
   "source": [
    "import pickle\n",
    "model = pickle.load(open('mnist_model.sav', 'rb'))"
   ]
  },
  {
   "cell_type": "code",
   "execution_count": 10,
   "metadata": {},
   "outputs": [
    {
     "name": "stdout",
     "output_type": "stream",
     "text": [
      "(300, 300)\n",
      "(28, 28)\n"
     ]
    },
    {
     "data": {
      "text/plain": [
       "<matplotlib.image.AxesImage at 0x13bc1f5e0>"
      ]
     },
     "execution_count": 10,
     "metadata": {},
     "output_type": "execute_result"
    },
    {
     "data": {
      "image/png": "[encoded data removed]",
      "text/plain": [
       "<Figure size 160x160 with 1 Axes>"
      ]
     },
     "metadata": {},
     "output_type": "display_data"
    }
   ],
   "source": [
    "import cv2\n",
    "import matplotlib.pyplot as plt\n",
    "\n",
    "file = r\"./data/test_img/gfg.png\"\n",
    "tst = cv2.imread(file, cv2.IMREAD_GRAYSCALE)\n",
    "\n",
    "print(tst.shape)\n",
    "\n",
    "img_resize = cv2.resize(tst, (28,28), interpolation=cv2.INTER_LINEAR)\n",
    "img_resize = cv2.bitwise_not(img_resize)\n",
    "\n",
    "print(img_resize.shape)\n",
    "\n",
    "final = model.predict(img_resize.reshape(1, -1))\n",
    "\n",
    "\n",
    "\n",
    "images = img_resize.reshape(28,28)\n",
    "plt.figure(figsize=(2,2), dpi=80)\n",
    "plt.imshow(images, cmap='gray')"
   ]
  },
  {
   "cell_type": "code",
   "execution_count": 22,
   "metadata": {},
   "outputs": [
    {
     "name": "stdout",
     "output_type": "stream",
     "text": [
      "[5]\n"
     ]
    },
    {
     "data": {
      "text/plain": [
       "<matplotlib.image.AxesImage at 0x13be955b0>"
      ]
     },
     "execution_count": 22,
     "metadata": {},
     "output_type": "execute_result"
    },
    {
     "data": {
      "image/png": "[encoded data removed]",
      "text/plain": [
       "<Figure size 160x160 with 1 Axes>"
      ]
     },
     "metadata": {},
     "output_type": "display_data"
    }
   ],
   "source": [
    "import base64\n",
    "from PIL import Image\n",
    "import io\n",
    "import numpy as np\n",
    "import cv2\n",
    "import matplotlib.pyplot as plt\n",
    "\n",
    "base64_img = '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'\n",
    "def load_img(img_b64):\n",
    "    decode_img = base64.b64decode(img_b64)\n",
    "    image = Image.open(io.BytesIO(decode_img))\n",
    "    image_np = np.array(image)\n",
    "    gray = cv2.cvtColor(image_np, cv2.COLOR_BGR2GRAY)\n",
    "    img_resize = cv2.resize(gray, (28,28), interpolation=cv2.INTER_LINEAR)\n",
    "    img_resize = cv2.bitwise_not(img_resize)\n",
    "    return img_resize\n",
    "\n",
    "img = load_img(base64_img)\n",
    "final = model.predict(img.reshape(1, -1))\n",
    "print(final)\n",
    "\n",
    "images = img.reshape(28,28)\n",
    "plt.figure(figsize=(2,2), dpi=80)\n",
    "plt.imshow(images, cmap='gray')\n"
   ]
  }
 ],
 "metadata": {
  "kernelspec": {
   "display_name": "Python 3.8.9 ('learn_env': venv)",
   "language": "python",
   "name": "python3"
  },
  "language_info": {
   "codemirror_mode": {
    "name": "ipython",
    "version": 3
   },
   "file_extension": ".py",
   "mimetype": "text/x-python",
   "name": "python",
   "nbconvert_exporter": "python",
   "pygments_lexer": "ipython3",
   "version": "3.8.9 (default, Apr 13 2022, 08:48:07) \n[Clang 13.1.6 (clang-1316.0.21.2.5)]"
  },
  "orig_nbformat": 4,
  "vscode": {
   "interpreter": {
    "hash": "17139d3918043ae4cd17d6a9c11a1eea3f2d8f1b7db038889c30e96456a9b8be"
   }
  }
 },
 "nbformat": 4,
 "nbformat_minor": 2
}
